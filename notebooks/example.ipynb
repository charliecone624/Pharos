{
 "cells": [
  {
   "cell_type": "code",
   "execution_count": 5,
   "metadata": {},
   "outputs": [
    {
     "name": "stdout",
     "output_type": "stream",
     "text": [
      "https://www.alphavantage.co/query/?function=OVERVIEW&symbol=META&apikey=KUV9J0QX9O0A06DN\n",
      "Request successful.\n",
      "https://www.alphavantage.co/query/?function=OVERVIEW&symbol=AAPL&apikey=KUV9J0QX9O0A06DN\n",
      "Request successful.\n",
      "https://www.alphavantage.co/query/?function=OVERVIEW&symbol=AMZN&apikey=KUV9J0QX9O0A06DN\n",
      "Request successful.\n",
      "https://www.alphavantage.co/query/?function=OVERVIEW&symbol=NFLX&apikey=KUV9J0QX9O0A06DN\n",
      "Request successful.\n",
      "https://www.alphavantage.co/query/?function=OVERVIEW&symbol=GOOG&apikey=KUV9J0QX9O0A06DN\n",
      "Request successful.\n"
     ]
    },
    {
     "data": {
      "text/plain": [
       "Ticker(symbol='META', overview={'Symbol': 'META', 'AssetType': 'Common Stock', 'Name': 'Meta Platforms Inc.', 'Description': 'Meta Platforms, Inc. develops products that enable people to connect and share with friends and family through mobile devices, PCs, virtual reality headsets, wearables and home devices around the world. The company is headquartered in Menlo Park, California.', 'CIK': '1326801', 'Exchange': 'NASDAQ', 'Currency': 'USD', 'Country': 'USA', 'Sector': 'TECHNOLOGY', 'Industry': 'GENERAL', 'Address': 'NONE', 'FiscalYearEnd': 'December', 'LatestQuarter': '2022-03-31', 'MarketCapitalization': '443105739000', 'EBITDA': '52050002000', 'PERatio': '12.39', 'PEGRatio': '1.168', 'BookValue': '45.41', 'DividendPerShare': '0', 'DividendYield': '0', 'EPS': '13.21', 'RevenuePerShareTTM': '42.98', 'ProfitMargin': '0.312', 'OperatingMarginTTM': '0.367', 'ReturnOnAssetsTTM': '0.167', 'ReturnOnEquityTTM': '0.291', 'RevenueTTM': '119666000000', 'GrossProfitTTM': '95280000000', 'DilutedEPSTTM': '13.21', 'QuarterlyEarningsGrowthYOY': '-0.176', 'QuarterlyRevenueGrowthYOY': '0.066', 'AnalystTargetPrice': '296.63', 'TrailingPE': '12.39', 'ForwardPE': '15.97', 'PriceToSalesRatioTTM': '3.703', 'PriceToBookRatio': '4.222', 'EVToRevenue': '4.098', 'EVToEBITDA': '9.42', 'Beta': '1.376', '52WeekHigh': '384.33', '52WeekLow': '161.36', '50DayMovingAverage': '198.9', '200DayMovingAverage': '276.58', 'SharesOutstanding': '2293520000', 'DividendDate': 'None', 'ExDividendDate': 'None'}, balance_sheet=None, income_statement=None, cash_flow=None, earnings=None)"
      ]
     },
     "execution_count": 5,
     "metadata": {},
     "output_type": "execute_result"
    }
   ],
   "source": [
    "from data.ticker import Ticker, Components\n",
    "\n",
    "tickers = ['META', 'AAPL', 'AMZN', 'NFLX', 'GOOG']\n",
    "portfolio = {}\n",
    "for i in tickers:\n",
    "    portfolio[i] = Ticker(i)\n",
    "    portfolio[i].get(Components.overview)\n",
    "portfolio['META']"
   ]
  },
  {
   "cell_type": "code",
   "execution_count": null,
   "metadata": {},
   "outputs": [],
   "source": []
  }
 ],
 "metadata": {
  "interpreter": {
   "hash": "c76fe2deb4b972f86bbb72c29764e832f5b10c8802a90264a9ef6be1388d60ff"
  },
  "kernelspec": {
   "display_name": "Python 3.10.0 ('env': venv)",
   "language": "python",
   "name": "python3"
  },
  "language_info": {
   "codemirror_mode": {
    "name": "ipython",
    "version": 3
   },
   "file_extension": ".py",
   "mimetype": "text/x-python",
   "name": "python",
   "nbconvert_exporter": "python",
   "pygments_lexer": "ipython3",
   "version": "3.10.0"
  },
  "orig_nbformat": 4
 },
 "nbformat": 4,
 "nbformat_minor": 2
}
